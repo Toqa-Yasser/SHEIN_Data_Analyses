{
 "cells": [
  {
   "cell_type": "code",
   "execution_count": 372,
   "id": "7bb2f086-ba02-4004-9bfa-a7b82ba8c8dd",
   "metadata": {
    "execution": {
     "iopub.execute_input": "2024-07-11T20:14:39.115541Z",
     "iopub.status.busy": "2024-07-11T20:14:39.114411Z",
     "iopub.status.idle": "2024-07-11T20:14:39.121201Z",
     "shell.execute_reply": "2024-07-11T20:14:39.120394Z",
     "shell.execute_reply.started": "2024-07-11T20:14:39.115491Z"
    }
   },
   "outputs": [],
   "source": [
    "import undetected_chromedriver as uc\n",
    "from selenium.webdriver.common.by import By\n",
    "import numpy as np"
   ]
  },
  {
   "cell_type": "code",
   "execution_count": 373,
   "id": "a4702ee5-60bd-4a05-af0e-77130185888e",
   "metadata": {
    "execution": {
     "iopub.execute_input": "2024-07-11T20:14:39.392890Z",
     "iopub.status.busy": "2024-07-11T20:14:39.392035Z",
     "iopub.status.idle": "2024-07-11T20:14:47.256115Z",
     "shell.execute_reply": "2024-07-11T20:14:47.255429Z",
     "shell.execute_reply.started": "2024-07-11T20:14:39.392843Z"
    }
   },
   "outputs": [],
   "source": [
    "chrome_path = '/Users/toqayasser/.cache/selenium/chrome/mac-arm64/126.0.6478.126/Google Chrome for Testing.app/Contents/MacOS/Google Chrome for Testing'\n",
    "driver_path = '/Users/toqayasser/.cache/selenium/chromedriver/mac-arm64/126.0.6478.126/chromedriver'\n",
    "\n",
    "options = uc.ChromeOptions()\n",
    "# options.binary_location = chrome_path\n",
    "# options.add_argument(\"--disable-extensions\")\n",
    "# options.add_argument(\"--disable-popup-blocking\")\n",
    "# options.add_argument(\"--disable-plugins-discovery\")\n",
    "# options.add_argument(\"--incognito\")\n",
    "# options.add_argument(\"user_agent=DN\")\n",
    "options.add_argument('--headless')\n",
    "\n",
    "driver = uc.Chrome(version_main=126, browser_executable_path=chrome_path,)\n",
    "driver.get('https://www.shein.com/RecommendSelection/Bags-Luggage-sc-017174546.html?categoryJump=true&ici=www_tab15navbar15&src_identifier=fc%3DBags%20%26%20Luggage%60sc%3DBags%20%26%20Luggage%60tc%3D0%60oc%3D0%60ps%3Dtab15navbar15%60jc%3DitemPicking_017174546&src_module=topcat&src_tab_page_id=page_real_class1720569011488&sort=7&source=sort&sourceStatus=1')"
   ]
  },
  {
   "cell_type": "code",
   "execution_count": 374,
   "id": "7925547b-5061-418f-8332-4cb1e7bcdf33",
   "metadata": {
    "execution": {
     "iopub.execute_input": "2024-07-11T20:15:21.517083Z",
     "iopub.status.busy": "2024-07-11T20:15:21.516538Z",
     "iopub.status.idle": "2024-07-11T20:15:21.521709Z",
     "shell.execute_reply": "2024-07-11T20:15:21.520554Z",
     "shell.execute_reply.started": "2024-07-11T20:15:21.517056Z"
    }
   },
   "outputs": [],
   "source": [
    "##the name of the product\n",
    "##loop al section htkon b even numbers 34an kol section gwah section kman"
   ]
  },
  {
   "cell_type": "code",
   "execution_count": 375,
   "id": "47754526-df33-4849-b44a-b873470f7298",
   "metadata": {
    "execution": {
     "iopub.execute_input": "2024-07-11T20:15:21.899212Z",
     "iopub.status.busy": "2024-07-11T20:15:21.898576Z",
     "iopub.status.idle": "2024-07-11T20:15:21.956370Z",
     "shell.execute_reply": "2024-07-11T20:15:21.956018Z",
     "shell.execute_reply.started": "2024-07-11T20:15:21.899179Z"
    }
   },
   "outputs": [
    {
     "data": {
      "text/plain": [
       "'Litchi Embossed Multiple Card Slots Flap Button Decor Lightweight Portable Credit Card ID Card White-Collar Workers Holiday For Anniversary For Birthday Gift Gift Accessories Gift BLACK FRIDAY Present'"
      ]
     },
     "execution_count": 375,
     "metadata": {},
     "output_type": "execute_result"
    }
   ],
   "source": [
    "x = driver.find_element(By.XPATH, \".//section[@class='product-list-v2__section']\").find_element(By.TAG_NAME,'div').find_elements(By.TAG_NAME,'section')[30].find_element(By.TAG_NAME,'a')\n",
    "name=x.get_attribute('aria-label')\n",
    "name"
   ]
  },
  {
   "cell_type": "code",
   "execution_count": 376,
   "id": "a770bbb5-dfed-48b2-9ea0-e71f2a483a2e",
   "metadata": {
    "execution": {
     "iopub.execute_input": "2024-07-11T20:15:22.800343Z",
     "iopub.status.busy": "2024-07-11T20:15:22.799607Z",
     "iopub.status.idle": "2024-07-11T20:15:22.807700Z",
     "shell.execute_reply": "2024-07-11T20:15:22.806726Z",
     "shell.execute_reply.started": "2024-07-11T20:15:22.800317Z"
    }
   },
   "outputs": [],
   "source": [
    "##the link of the product"
   ]
  },
  {
   "cell_type": "code",
   "execution_count": 377,
   "id": "848a4c68-b306-4aad-89fd-edbf8cdec2e5",
   "metadata": {
    "execution": {
     "iopub.execute_input": "2024-07-11T20:15:23.039790Z",
     "iopub.status.busy": "2024-07-11T20:15:23.038525Z",
     "iopub.status.idle": "2024-07-11T20:15:23.053970Z",
     "shell.execute_reply": "2024-07-11T20:15:23.053241Z",
     "shell.execute_reply.started": "2024-07-11T20:15:23.039746Z"
    },
    "scrolled": true
   },
   "outputs": [
    {
     "data": {
      "text/plain": [
       "'https://www.shein.com/Litchi-Embossed-Multiple-Card-Slots-Flap-Button-Decor-Lightweight-Portable-Credit-Card-ID-Card-White-Collar-Workers-Holiday-For-Anniversary-For-Birthday-Gift-Gift-Accessories-Gift-BLACK-FRIDAY-Present-p-16835184.html?src_identifier=fc%3DBags%20&src_module=topcat&src_tab_page_id=page_real_class1720569011488&mallCode=1&pageListType=2'"
      ]
     },
     "execution_count": 377,
     "metadata": {},
     "output_type": "execute_result"
    }
   ],
   "source": [
    "url=x.get_attribute('href')\n",
    "url"
   ]
  },
  {
   "cell_type": "code",
   "execution_count": 378,
   "id": "92ef09fb-58e9-4a0e-8dea-1a99bd9ea7a3",
   "metadata": {
    "execution": {
     "iopub.execute_input": "2024-07-11T20:15:23.957380Z",
     "iopub.status.busy": "2024-07-11T20:15:23.956172Z",
     "iopub.status.idle": "2024-07-11T20:15:23.963346Z",
     "shell.execute_reply": "2024-07-11T20:15:23.962271Z",
     "shell.execute_reply.started": "2024-07-11T20:15:23.957329Z"
    }
   },
   "outputs": [],
   "source": [
    "##the price of data"
   ]
  },
  {
   "cell_type": "code",
   "execution_count": 379,
   "id": "ace8e0f9-aa74-4f90-bf76-6927cf39a1af",
   "metadata": {
    "execution": {
     "iopub.execute_input": "2024-07-11T20:15:24.189070Z",
     "iopub.status.busy": "2024-07-11T20:15:24.188402Z",
     "iopub.status.idle": "2024-07-11T20:15:24.208469Z",
     "shell.execute_reply": "2024-07-11T20:15:24.207355Z",
     "shell.execute_reply.started": "2024-07-11T20:15:24.189038Z"
    }
   },
   "outputs": [
    {
     "data": {
      "text/plain": [
       "'5.10'"
      ]
     },
     "execution_count": 379,
     "metadata": {},
     "output_type": "execute_result"
    }
   ],
   "source": [
    "price=x.get_attribute('data-us-price')\n",
    "price"
   ]
  },
  {
   "cell_type": "code",
   "execution_count": 380,
   "id": "4d60fee3-c93e-4c49-9816-b3bbac057454",
   "metadata": {
    "execution": {
     "iopub.execute_input": "2024-07-11T20:15:24.445303Z",
     "iopub.status.busy": "2024-07-11T20:15:24.444637Z",
     "iopub.status.idle": "2024-07-11T20:15:24.451736Z",
     "shell.execute_reply": "2024-07-11T20:15:24.450929Z",
     "shell.execute_reply.started": "2024-07-11T20:15:24.445272Z"
    }
   },
   "outputs": [],
   "source": [
    "##the sku of the product"
   ]
  },
  {
   "cell_type": "code",
   "execution_count": 381,
   "id": "e2506303-5262-4684-8586-7db04c8cf35d",
   "metadata": {
    "execution": {
     "iopub.execute_input": "2024-07-11T20:15:24.777701Z",
     "iopub.status.busy": "2024-07-11T20:15:24.776906Z",
     "iopub.status.idle": "2024-07-11T20:15:24.792499Z",
     "shell.execute_reply": "2024-07-11T20:15:24.791626Z",
     "shell.execute_reply.started": "2024-07-11T20:15:24.777643Z"
    }
   },
   "outputs": [
    {
     "data": {
      "text/plain": [
       "'sg2305270415144561'"
      ]
     },
     "execution_count": 381,
     "metadata": {},
     "output_type": "execute_result"
    }
   ],
   "source": [
    "sku=x.get_attribute('data-sku')\n",
    "sku"
   ]
  },
  {
   "cell_type": "code",
   "execution_count": 382,
   "id": "aaa7430a-82d9-40e5-97d4-ed052f27ebf8",
   "metadata": {
    "execution": {
     "iopub.execute_input": "2024-07-11T20:15:25.094420Z",
     "iopub.status.busy": "2024-07-11T20:15:25.093751Z",
     "iopub.status.idle": "2024-07-11T20:15:25.098533Z",
     "shell.execute_reply": "2024-07-11T20:15:25.097484Z",
     "shell.execute_reply.started": "2024-07-11T20:15:25.094378Z"
    }
   },
   "outputs": [],
   "source": [
    "##if the product have discount"
   ]
  },
  {
   "cell_type": "code",
   "execution_count": 383,
   "id": "d6d4df34-0350-4556-8bc8-c366dc992a5e",
   "metadata": {
    "execution": {
     "iopub.execute_input": "2024-07-11T20:15:25.377436Z",
     "iopub.status.busy": "2024-07-11T20:15:25.377057Z",
     "iopub.status.idle": "2024-07-11T20:15:25.404697Z",
     "shell.execute_reply": "2024-07-11T20:15:25.404342Z",
     "shell.execute_reply.started": "2024-07-11T20:15:25.377421Z"
    }
   },
   "outputs": [
    {
     "data": {
      "text/plain": [
       "'15'"
      ]
     },
     "execution_count": 383,
     "metadata": {},
     "output_type": "execute_result"
    }
   ],
   "source": [
    "discount=x.get_attribute('data-discount')\n",
    "if discount == '':\n",
    "    discount= np.nan\n",
    "discount"
   ]
  },
  {
   "cell_type": "code",
   "execution_count": 384,
   "id": "24d7fbae-533e-4fef-8feb-303cfaf5bf65",
   "metadata": {
    "execution": {
     "iopub.execute_input": "2024-07-11T20:15:25.694796Z",
     "iopub.status.busy": "2024-07-11T20:15:25.692989Z",
     "iopub.status.idle": "2024-07-11T20:15:25.700617Z",
     "shell.execute_reply": "2024-07-11T20:15:25.699715Z",
     "shell.execute_reply.started": "2024-07-11T20:15:25.694746Z"
    }
   },
   "outputs": [],
   "source": [
    "##the number of reviews"
   ]
  },
  {
   "cell_type": "code",
   "execution_count": 385,
   "id": "21b73674-6d20-4506-9913-ba163e57f99b",
   "metadata": {
    "execution": {
     "iopub.execute_input": "2024-07-11T20:15:26.748909Z",
     "iopub.status.busy": "2024-07-11T20:15:26.747349Z",
     "iopub.status.idle": "2024-07-11T20:15:26.783350Z",
     "shell.execute_reply": "2024-07-11T20:15:26.782936Z",
     "shell.execute_reply.started": "2024-07-11T20:15:26.748859Z"
    }
   },
   "outputs": [
    {
     "data": {
      "text/plain": [
       "'(1000+)'"
      ]
     },
     "execution_count": 385,
     "metadata": {},
     "output_type": "execute_result"
    }
   ],
   "source": [
    "driver.find_elements(By.XPATH, \".//p[@class='start-text']\")[0].text"
   ]
  },
  {
   "cell_type": "code",
   "execution_count": 386,
   "id": "2b5e5e65-9a5f-4e3a-98cc-bffbc450084f",
   "metadata": {
    "execution": {
     "iopub.execute_input": "2024-07-11T20:15:27.432685Z",
     "iopub.status.busy": "2024-07-11T20:15:27.431637Z",
     "iopub.status.idle": "2024-07-11T20:15:27.443687Z",
     "shell.execute_reply": "2024-07-11T20:15:27.441762Z",
     "shell.execute_reply.started": "2024-07-11T20:15:27.432639Z"
    }
   },
   "outputs": [],
   "source": [
    "##The color in the descrition (active color)\n",
    "##and the other colors if exist"
   ]
  },
  {
   "cell_type": "code",
   "execution_count": 387,
   "id": "d61a3c6c-296b-4921-a02a-40cc71837014",
   "metadata": {
    "execution": {
     "iopub.execute_input": "2024-07-11T20:15:28.263083Z",
     "iopub.status.busy": "2024-07-11T20:15:28.262345Z",
     "iopub.status.idle": "2024-07-11T20:15:39.539889Z",
     "shell.execute_reply": "2024-07-11T20:15:39.539635Z",
     "shell.execute_reply.started": "2024-07-11T20:15:28.263044Z"
    }
   },
   "outputs": [
    {
     "name": "stdout",
     "output_type": "stream",
     "text": [
      "['Black', 'Brown', 'Red Violet', 'Khaki', 'Green', 'Pink', 'Teal Blue']\n"
     ]
    },
    {
     "data": {
      "text/plain": [
       "'Black'"
      ]
     },
     "execution_count": 387,
     "metadata": {},
     "output_type": "execute_result"
    }
   ],
   "source": [
    "driver.get(url)\n",
    "try:\n",
    "    activecolor=driver.find_element(By.XPATH, \".//h2[@aria-label='Description']\")\n",
    "    while True: \n",
    "        try:\n",
    "            activecolor.click()\n",
    "            activecolor= driver.find_elements(By.XPATH, \".//div[@class='key' and contains(text(), 'Color: ')]\")[-1].find_element(By.XPATH, '..').find_elements(By.TAG_NAME, 'div')[-1]\n",
    "            while activecolor.text == '':\n",
    "                driver.find_element(By.XPATH, \".//h2[@aria-label='Description']\").click()\n",
    "            activecolor = activecolor.text\n",
    "            break\n",
    "        except:\n",
    "             driver.execute_script(\"arguments[0].scrollIntoView(true);\", activecolor)\n",
    "except:\n",
    "    activecolor=np.nan\n",
    "lst=[]\n",
    "lst.append(activecolor)\n",
    "p=0\n",
    "while True:\n",
    "    try:\n",
    "        try:\n",
    "            color=driver.find_element(By.XPATH,\".//div[@id='goods-detail-v3']\").find_element(By.XPATH,\".//div[@class='goods-color__radio-container']\").find_elements(By.XPATH,\".//div[@class='goods-color__radio goods-color__radio_radio']\")[p].get_attribute('aria-label')\n",
    "        except:\n",
    "            color=driver.find_element(By.XPATH,\".//div[@id='goods-detail-v3']\").find_element(By.XPATH,\".//div[@class='goods-color__radio-container']\").find_elements(By.XPATH,\".//div[@class='goods-color__radio goods-color__radio_block']\")[p].get_attribute('aria-label')\n",
    "        lst.append(color)\n",
    "        p+=1\n",
    "    except:\n",
    "        break\n",
    "print(lst)\n",
    "activecolor"
   ]
  },
  {
   "cell_type": "code",
   "execution_count": 388,
   "id": "3b715c07-b49b-4ddb-9790-2d7b4cf0fdfb",
   "metadata": {
    "execution": {
     "iopub.execute_input": "2024-07-11T20:15:39.541045Z",
     "iopub.status.busy": "2024-07-11T20:15:39.540911Z",
     "iopub.status.idle": "2024-07-11T20:15:39.542984Z",
     "shell.execute_reply": "2024-07-11T20:15:39.542684Z",
     "shell.execute_reply.started": "2024-07-11T20:15:39.541035Z"
    }
   },
   "outputs": [],
   "source": [
    "##num of rate "
   ]
  },
  {
   "cell_type": "code",
   "execution_count": 392,
   "id": "b7fc495b-7b26-4c80-bcc0-4c9b370a0c64",
   "metadata": {
    "execution": {
     "iopub.execute_input": "2024-07-11T20:16:14.829609Z",
     "iopub.status.busy": "2024-07-11T20:16:14.829024Z",
     "iopub.status.idle": "2024-07-11T20:16:14.856686Z",
     "shell.execute_reply": "2024-07-11T20:16:14.856002Z",
     "shell.execute_reply.started": "2024-07-11T20:16:14.829575Z"
    }
   },
   "outputs": [
    {
     "data": {
      "text/plain": [
       "'4.94'"
      ]
     },
     "execution_count": 392,
     "metadata": {},
     "output_type": "execute_result"
    }
   ],
   "source": [
    "temp=driver.find_element(By.XPATH,\".//div[@id='goods-detail-v3']\").find_element(By.XPATH,\".//div[@class='rate-num']\")\n",
    "while True:\n",
    "    try:\n",
    "        temp\n",
    "        rate=temp.text\n",
    "        break\n",
    "    except:\n",
    "        driver.execute_script(\"arguments[0].scrollIntoView(true);\", temp)\n",
    "rate"
   ]
  },
  {
   "cell_type": "code",
   "execution_count": 393,
   "id": "a29b0d8d-4ea4-4915-84b9-75c0fd3b0f2a",
   "metadata": {
    "execution": {
     "iopub.execute_input": "2024-07-11T20:16:17.499802Z",
     "iopub.status.busy": "2024-07-11T20:16:17.499112Z",
     "iopub.status.idle": "2024-07-11T20:16:17.504347Z",
     "shell.execute_reply": "2024-07-11T20:16:17.503299Z",
     "shell.execute_reply.started": "2024-07-11T20:16:17.499757Z"
    }
   },
   "outputs": [],
   "source": [
    "##the name of store"
   ]
  },
  {
   "cell_type": "code",
   "execution_count": 394,
   "id": "bd034f67-66e7-4c56-b22f-37941d569f3b",
   "metadata": {
    "execution": {
     "iopub.execute_input": "2024-07-11T20:16:18.023989Z",
     "iopub.status.busy": "2024-07-11T20:16:18.023303Z",
     "iopub.status.idle": "2024-07-11T20:16:19.161071Z",
     "shell.execute_reply": "2024-07-11T20:16:19.160798Z",
     "shell.execute_reply.started": "2024-07-11T20:16:18.023943Z"
    }
   },
   "outputs": [
    {
     "data": {
      "text/plain": [
       "'CHARM INFINITE'"
      ]
     },
     "execution_count": 394,
     "metadata": {},
     "output_type": "execute_result"
    }
   ],
   "source": [
    "try:\n",
    "    temp = driver.find_element(By.XPATH, \".//div[@aria-label='About Store']\")\n",
    "    while True:\n",
    "        try:\n",
    "            temp.click()\n",
    "            store = driver.find_element(By.XPATH, \".//div[@aria-label='About Store']\").find_element(By.XPATH, '..').find_element(By.XPATH,\".//div[@class='title']\")\n",
    "            while store.text=='':\n",
    "                driver.find_element(By.XPATH, \".//div[@aria-label='About Store']\").click()     \n",
    "            store=store.text\n",
    "            break\n",
    "        except:\n",
    "            driver.execute_script(\"arguments[0].scrollIntoView(true);\", temp)\n",
    "except:\n",
    "    store = np.nan\n",
    "store"
   ]
  },
  {
   "cell_type": "code",
   "execution_count": 395,
   "id": "c366dff0-641b-43ea-a62c-4da45900d0ac",
   "metadata": {
    "execution": {
     "iopub.execute_input": "2024-07-11T20:16:21.680291Z",
     "iopub.status.busy": "2024-07-11T20:16:21.679656Z",
     "iopub.status.idle": "2024-07-11T20:16:21.689802Z",
     "shell.execute_reply": "2024-07-11T20:16:21.688932Z",
     "shell.execute_reply.started": "2024-07-11T20:16:21.680251Z"
    }
   },
   "outputs": [],
   "source": [
    "###rate of the store"
   ]
  },
  {
   "cell_type": "code",
   "execution_count": 396,
   "id": "51a2373b-a7a4-44da-b58d-08a189b5bcf9",
   "metadata": {
    "execution": {
     "iopub.execute_input": "2024-07-11T20:16:22.559255Z",
     "iopub.status.busy": "2024-07-11T20:16:22.558495Z",
     "iopub.status.idle": "2024-07-11T20:16:22.641942Z",
     "shell.execute_reply": "2024-07-11T20:16:22.641616Z",
     "shell.execute_reply.started": "2024-07-11T20:16:22.559208Z"
    }
   },
   "outputs": [
    {
     "data": {
      "text/plain": [
       "'4.93\\n Rating'"
      ]
     },
     "execution_count": 396,
     "metadata": {},
     "output_type": "execute_result"
    }
   ],
   "source": [
    "try:\n",
    "    temp = driver.find_element(By.XPATH, \".//div[@aria-label='About Store']\")\n",
    "    while True:\n",
    "        try:\n",
    "            temp.click()\n",
    "            ratestore = driver.find_element(By.XPATH,\".//div[@id='goods-detail-v3']\").find_element(By.XPATH,\".//div[@class='item with-split-line']\")\n",
    "            while ratestore.text=='':\n",
    "                driver.find_element(By.XPATH, \".//div[@aria-label='About Store']\").click()\n",
    "            ratestore=ratestore.text\n",
    "            break\n",
    "        except:\n",
    "            driver.execute_script(\"arguments[0].scrollIntoView(true);\", temp)\n",
    "except:\n",
    "    ratestore = np.nan\n",
    "ratestore"
   ]
  },
  {
   "cell_type": "code",
   "execution_count": 397,
   "id": "63ef0ff5-e753-4698-b256-ce14e5aa8dfd",
   "metadata": {
    "execution": {
     "iopub.execute_input": "2024-07-11T20:16:25.905300Z",
     "iopub.status.busy": "2024-07-11T20:16:25.904689Z",
     "iopub.status.idle": "2024-07-11T20:16:25.913987Z",
     "shell.execute_reply": "2024-07-11T20:16:25.912850Z",
     "shell.execute_reply.started": "2024-07-11T20:16:25.905257Z"
    }
   },
   "outputs": [],
   "source": [
    "###the images of the product"
   ]
  },
  {
   "cell_type": "code",
   "execution_count": 398,
   "id": "edfe1163-14b8-430b-a2a2-3c56ab1eb266",
   "metadata": {
    "execution": {
     "iopub.execute_input": "2024-07-11T20:16:26.246733Z",
     "iopub.status.busy": "2024-07-11T20:16:26.246111Z",
     "iopub.status.idle": "2024-07-11T20:16:26.350517Z",
     "shell.execute_reply": "2024-07-11T20:16:26.350183Z",
     "shell.execute_reply.started": "2024-07-11T20:16:26.246693Z"
    }
   },
   "outputs": [
    {
     "data": {
      "text/plain": [
       "['https://img.ltwebstatic.com/images3_spmp/2023/05/27/1685120686575340f3d49aec858c9b86ef35ca9cf6_thumbnail_900x.webp',\n",
       " 'https://img.ltwebstatic.com/images3_spmp/2023/05/27/16851206876ce1f06f47b387fb4a69c24570d644eb_thumbnail_900x.webp',\n",
       " 'https://img.ltwebstatic.com/images3_spmp/2023/05/27/1685120686c30d1dbe73756d787a393e69f77ea278_thumbnail_900x.webp',\n",
       " 'https://img.ltwebstatic.com/images3_spmp/2023/05/27/16851206876ce1f06f47b387fb4a69c24570d644eb_thumbnail_900x.webp']"
      ]
     },
     "execution_count": 398,
     "metadata": {},
     "output_type": "execute_result"
    }
   ],
   "source": [
    "lst=[]\n",
    "try:    \n",
    "    x = driver.find_element(By.XPATH,\".//div[@id='goods-detail-v3']\").find_elements(By.XPATH,\".//div[@class='product-intro-zoom__item']\")\n",
    "    for i in x:\n",
    "        if i.find_element(By.TAG_NAME,'img').get_attribute('src').endswith('webp'):\n",
    "            lst.append(i.find_element(By.TAG_NAME,'img').get_attribute('src'))\n",
    "except:\n",
    "    lst=np.nan\n",
    "lst"
   ]
  },
  {
   "cell_type": "code",
   "execution_count": 399,
   "id": "6447c7bd-6c52-422f-b12f-71da9eb83021",
   "metadata": {
    "execution": {
     "iopub.execute_input": "2024-07-11T20:16:27.155758Z",
     "iopub.status.busy": "2024-07-11T20:16:27.154641Z",
     "iopub.status.idle": "2024-07-11T20:16:27.239017Z",
     "shell.execute_reply": "2024-07-11T20:16:27.238575Z",
     "shell.execute_reply.started": "2024-07-11T20:16:27.155704Z"
    }
   },
   "outputs": [
    {
     "data": {
      "text/plain": [
       "['https://img.ltwebstatic.com/images3_spmp/2023/05/27/1685120686575340f3d49aec858c9b86ef35ca9cf6_thumbnail_900x.webp',\n",
       " 'https://img.ltwebstatic.com/images3_spmp/2023/05/27/16851206876ce1f06f47b387fb4a69c24570d644eb_thumbnail_900x.webp',\n",
       " 'https://img.ltwebstatic.com/images3_spmp/2023/05/27/1685120686c30d1dbe73756d787a393e69f77ea278_thumbnail_900x.webp',\n",
       " 'https://img.ltwebstatic.com/images3_spmp/2023/05/27/16851206876ce1f06f47b387fb4a69c24570d644eb_thumbnail_900x.webp']"
      ]
     },
     "execution_count": 399,
     "metadata": {},
     "output_type": "execute_result"
    }
   ],
   "source": [
    "lst = []\n",
    "try:\n",
    "    # Wait until the parent div is present\n",
    "    parent_div = WebDriverWait(driver, 10).until(\n",
    "        EC.presence_of_element_located((By.XPATH, \".//div[@id='goods-detail-v3']\"))\n",
    "    )\n",
    "    # Find the child elements\n",
    "    x = parent_div.find_elements(By.XPATH, \".//div[@class='product-intro-zoom__item']\")\n",
    "    for i in x:\n",
    "        try:\n",
    "            img_element = i.find_element(By.TAG_NAME, 'img')\n",
    "            img_src = img_element.get_attribute('src')\n",
    "            if img_src and img_src.endswith('webp'):\n",
    "                lst.append(img_src)\n",
    "        except :\n",
    "            pass\n",
    "    # If no elements were added to the list, assign np.nan\n",
    "    if not lst:\n",
    "        lst = np.nan\n",
    "except :\n",
    "    lst = np.nan\n",
    "lst"
   ]
  },
  {
   "cell_type": "code",
   "execution_count": 400,
   "id": "3fab6466-b00a-4cb2-b8ba-28d9969069b7",
   "metadata": {
    "execution": {
     "iopub.execute_input": "2024-07-11T20:16:31.092428Z",
     "iopub.status.busy": "2024-07-11T20:16:31.091727Z",
     "iopub.status.idle": "2024-07-11T20:16:31.101645Z",
     "shell.execute_reply": "2024-07-11T20:16:31.100731Z",
     "shell.execute_reply.started": "2024-07-11T20:16:31.092388Z"
    }
   },
   "outputs": [],
   "source": [
    "####the size of the product"
   ]
  },
  {
   "cell_type": "code",
   "execution_count": 401,
   "id": "96606e9c-03a6-478a-bd07-6ca1dcccd0d5",
   "metadata": {
    "execution": {
     "iopub.execute_input": "2024-07-11T20:16:31.441028Z",
     "iopub.status.busy": "2024-07-11T20:16:31.440425Z",
     "iopub.status.idle": "2024-07-11T20:16:31.468823Z",
     "shell.execute_reply": "2024-07-11T20:16:31.468421Z",
     "shell.execute_reply.started": "2024-07-11T20:16:31.440991Z"
    }
   },
   "outputs": [
    {
     "data": {
      "text/plain": [
       "[]"
      ]
     },
     "execution_count": 401,
     "metadata": {},
     "output_type": "execute_result"
    }
   ],
   "source": [
    "lst=[]\n",
    "try:\n",
    "    m = driver.find_element(By.XPATH,\".//div[@id='goods-detail-v3']\").find_elements(By.XPATH,\".//div[@class='product-intro__size']\")\n",
    "    for i in m:\n",
    "        lst.append(i.text)\n",
    "except:\n",
    "    lst=np.nan\n",
    "lst"
   ]
  },
  {
   "cell_type": "code",
   "execution_count": 1,
   "id": "7e00c571-32b6-4b07-b5ce-24297350ac2e",
   "metadata": {
    "execution": {
     "iopub.execute_input": "2024-07-12T01:20:18.999476Z",
     "iopub.status.busy": "2024-07-12T01:20:18.998669Z",
     "iopub.status.idle": "2024-07-12T01:20:19.008252Z",
     "shell.execute_reply": "2024-07-12T01:20:19.007549Z",
     "shell.execute_reply.started": "2024-07-12T01:20:18.999419Z"
    }
   },
   "outputs": [],
   "source": [
    "##store in csv"
   ]
  },
  {
   "cell_type": "code",
   "execution_count": 402,
   "id": "e8a4805e-907a-4c68-a42e-0e3c00a2eea6",
   "metadata": {
    "execution": {
     "iopub.execute_input": "2024-07-11T20:17:20.611021Z",
     "iopub.status.busy": "2024-07-11T20:17:20.610372Z",
     "iopub.status.idle": "2024-07-11T20:17:20.614933Z",
     "shell.execute_reply": "2024-07-11T20:17:20.614107Z",
     "shell.execute_reply.started": "2024-07-11T20:17:20.610989Z"
    }
   },
   "outputs": [],
   "source": [
    "##total cell"
   ]
  },
  {
   "cell_type": "code",
   "execution_count": 1,
   "id": "ad4613a8-c0a6-4f36-a3b5-f898646a7f00",
   "metadata": {
    "execution": {
     "iopub.execute_input": "2024-07-27T20:54:24.832081Z",
     "iopub.status.busy": "2024-07-27T20:54:24.831536Z",
     "iopub.status.idle": "2024-07-27T20:54:36.388170Z",
     "shell.execute_reply": "2024-07-27T20:54:36.387743Z",
     "shell.execute_reply.started": "2024-07-27T20:54:24.832030Z"
    }
   },
   "outputs": [],
   "source": [
    "import undetected_chromedriver as uc\n",
    "from selenium.webdriver.common.by import By\n",
    "import numpy as np\n",
    "from selenium.webdriver.common.by import By\n",
    "from selenium.webdriver.support.ui import WebDriverWait\n",
    "from selenium.webdriver.support import expected_conditions as EC\n",
    "from time import sleep\n",
    "import csv\n",
    "\n",
    "chrome_path = '/Users/toqayasser/.cache/selenium/chrome/mac-arm64/126.0.6478.126/Google Chrome for Testing.app/Contents/MacOS/Google Chrome for Testing'\n",
    "driver_path = '/Users/toqayasser/.cache/selenium/chromedriver/mac-arm64/126.0.6478.126/chromedriver'\n",
    "options = uc.ChromeOptions()\n",
    "# options.binary_location = chrome_path\n",
    "options.add_argument(\"--disable-extensions\")\n",
    "options.add_argument(\"--disable-popup-blocking\")\n",
    "options.add_argument(\"--disable-plugins-discovery\")\n",
    "# options.add_argument(\"--incognito\")\n",
    "# options.add_argument('--headless')\n",
    "driver = uc.Chrome(version_main=126, browser_executable_path=chrome_path,options=options)\n",
    "driver.get('https://www.shein.com/RecommendSelection/Home-Kitchen-sc-017185546.html?adp=&categoryJump=true&ici=www_tab10navbar10&src_identifier=fc%3DHome%20%26%20Kitchen%60sc%3DHome%20%26%20Kitchen%60tc%3D0%60oc%3D0%60ps%3Dtab10navbar10%60jc%3DitemPicking_017185546&src_module=topcat&src_tab_page_id=page_home1721426622857')"
   ]
  },
  {
   "cell_type": "code",
   "execution_count": null,
   "id": "02d563fc-ebbf-4b4b-86bd-56aca14f3f94",
   "metadata": {
    "execution": {
     "iopub.execute_input": "2024-07-27T20:55:06.404237Z",
     "iopub.status.busy": "2024-07-27T20:55:06.403304Z"
    },
    "scrolled": true
   },
   "outputs": [
    {
     "name": "stdout",
     "output_type": "stream",
     "text": [
      "ERROR! Session/line number was not unique in database. History logging moved to new session 5\n",
      "0\n",
      "2\n",
      "4\n",
      "6\n",
      "8\n",
      "10\n",
      "12\n"
     ]
    }
   ],
   "source": [
    "k = 0\n",
    "driver.set_page_load_timeout(60)\n",
    "\n",
    "section_container = WebDriverWait(driver, 10).until(\n",
    "    EC.presence_of_element_located((By.XPATH, \".//section[@class='product-list-v2__section']\"))\n",
    ").find_element(By.TAG_NAME, 'div')\n",
    "\n",
    "size = len(driver.find_element(By.XPATH, \".//section[@class='product-list-v2__section']\").find_element(By.TAG_NAME,'div').find_elements(By.TAG_NAME,'section'))\n",
    "while k < size:\n",
    "    print(k)\n",
    "    x = driver.find_element(By.XPATH, \".//section[@class='product-list-v2__section']\").find_element(By.TAG_NAME,'div').find_elements(By.TAG_NAME,'section')[k].find_element(By.TAG_NAME,'a')\n",
    "    k+=2\n",
    "    name=x.get_attribute('aria-label')\n",
    "    \n",
    "    \n",
    "    url=x.get_attribute('href')\n",
    "   \n",
    "    \n",
    "    price=x.get_attribute('data-us-price')\n",
    "    \n",
    "    \n",
    "    sku=x.get_attribute('data-sku')\n",
    "    \n",
    "    \n",
    "    discount=x.get_attribute('data-discount')\n",
    "    if discount == '':\n",
    "        discount= np.nan\n",
    "  \n",
    "    \n",
    "    \n",
    "    retries = 3\n",
    "    while retries > 0:\n",
    "        try:\n",
    "            driver.get(url)\n",
    "            break\n",
    "        except TimeoutException:\n",
    "            retries -= 1\n",
    "            if retries == 0:\n",
    "                raise\n",
    "            time.sleep(5)\n",
    "    \n",
    "    try:\n",
    "        activecolor=driver.find_element(By.XPATH, \".//h2[@aria-label='Description']\")\n",
    "        while True: \n",
    "            try:\n",
    "                activecolor.click()\n",
    "                activecolor= driver.find_elements(By.XPATH, \".//div[@class='key' and contains(text(), 'Color: ')]\")[-1].find_element(By.XPATH, '..').find_elements(By.TAG_NAME, 'div')[-1]\n",
    "                while activecolor.text == '':\n",
    "                    driver.find_element(By.XPATH, \".//h2[@aria-label='Description']\").click()\n",
    "                activecolor = activecolor.text\n",
    "                break\n",
    "            except:\n",
    "                 driver.execute_script(\"arguments[0].scrollIntoView(true);\", activecolor)\n",
    "    except:\n",
    "        activecolor=np.nan\n",
    "    lstcolor=[]\n",
    "    lstcolor.append(activecolor)\n",
    "    p=0\n",
    "    while True:\n",
    "        try:\n",
    "            try:\n",
    "                color=driver.find_element(By.XPATH,\".//div[@id='goods-detail-v3']\").find_element(By.XPATH,\".//div[@class='goods-color__radio-container']\").find_elements(By.XPATH,\".//div[@class='goods-color__radio goods-color__radio_radio']\")[p].get_attribute('aria-label')\n",
    "            except:\n",
    "                color=driver.find_element(By.XPATH,\".//div[@id='goods-detail-v3']\").find_element(By.XPATH,\".//div[@class='goods-color__radio-container']\").find_elements(By.XPATH,\".//div[@class='goods-color__radio goods-color__radio_block']\")[p].get_attribute('aria-label')\n",
    "            lstcolor.append(color)\n",
    "            p+=1\n",
    "        except:\n",
    "            break\n",
    "\n",
    "    sleep(0.5)\n",
    "    \n",
    "    try:\n",
    "        temp = WebDriverWait(driver, 10).until(\n",
    "            EC.presence_of_element_located((By.XPATH, \".//div[@id='goods-detail-v3']//div[@class='rate-num']\"))\n",
    "        )\n",
    "        rate = temp.text\n",
    "    except:\n",
    "        rate = np.nan\n",
    "\n",
    "    try:\n",
    "        temp = WebDriverWait(driver, 10).until(\n",
    "            EC.presence_of_element_located((By.XPATH, \".//div[@aria-label='About Store']\"))\n",
    "        )\n",
    "        while True:\n",
    "            try:\n",
    "                temp.click()\n",
    "                store = driver.find_element(By.XPATH, \".//div[@aria-label='About Store']\").find_element(By.XPATH, '..').find_element(By.XPATH, \".//div[@class='title']\")\n",
    "                while store.text == '':\n",
    "                    driver.find_element(By.XPATH, \".//div[@aria-label='About Store']\").click()\n",
    "                store = store.text\n",
    "                break\n",
    "            except:\n",
    "                driver.execute_script(\"arguments[0].scrollIntoView(true);\", temp)\n",
    "    except:\n",
    "        store = np.nan\n",
    "    \n",
    "    try:\n",
    "        temp = WebDriverWait(driver, 10).until(\n",
    "            EC.presence_of_element_located((By.XPATH, \".//div[@aria-label='About Store']\"))\n",
    "        )\n",
    "        while True:\n",
    "            try:\n",
    "                temp.click()\n",
    "                ratestore = driver.find_element(By.XPATH, \".//div[@id='goods-detail-v3']//div[@class='item with-split-line']\")\n",
    "                while ratestore.text == '':\n",
    "                    driver.find_element(By.XPATH, \".//div[@aria-label='About Store']\").click()\n",
    "                ratestore = ratestore.text\n",
    "                break\n",
    "            except:\n",
    "                driver.execute_script(\"arguments[0].scrollIntoView(true);\", temp)\n",
    "    except:\n",
    "        ratestore = np.nan\n",
    "    \n",
    "    lst = []\n",
    "    try:\n",
    "        # Wait until the parent div is present\n",
    "        parent_div = WebDriverWait(driver, 10).until(\n",
    "            EC.presence_of_element_located((By.XPATH, \".//div[@id='goods-detail-v3']\"))\n",
    "        )\n",
    "        # Find the child elements\n",
    "        x = parent_div.find_elements(By.XPATH, \".//div[@class='product-intro-zoom__item']\")\n",
    "        for i in x:\n",
    "            try:\n",
    "                img_element = i.find_element(By.TAG_NAME, 'img')\n",
    "                img_src = img_element.get_attribute('src')\n",
    "                if img_src and img_src.endswith('webp'):\n",
    "                    lst.append(img_src)\n",
    "            except :\n",
    "                pass\n",
    "        # If no elements were added to the list, assign np.nan\n",
    "        if not lst:\n",
    "            lst = np.nan\n",
    "    except :\n",
    "        lst = np.nan\n",
    "    \n",
    "    lstsize=[]\n",
    "    try:\n",
    "        m = driver.find_element(By.XPATH,\".//div[@id='goods-detail-v3']\").find_elements(By.XPATH,\".//div[@class='product-intro__size']\")\n",
    "        for i in m:\n",
    "            lstsize.append(i.text)\n",
    "    except:\n",
    "        lstsize=np.nan\n",
    "    driver.back()\n",
    "    sleep(0.1)\n",
    "    with open ('Shein2.csv',mode='a',newline='') as f:\n",
    "        writer=csv.writer(f)\n",
    "        writer.writerow(['Home & kitchen',name,url,price, rate ,lstcolor, lstsize , sku , rate , store , discount , ratestore , lst ])"
   ]
  },
  {
   "cell_type": "code",
   "execution_count": null,
   "id": "087e30f5-821a-43cd-8d17-6d14eca9aa8d",
   "metadata": {},
   "outputs": [],
   "source": [
    "driver.quit()"
   ]
  },
  {
   "cell_type": "code",
   "execution_count": 1,
   "id": "ebf0695d-1ffb-4d6f-ad3c-5525da4e120d",
   "metadata": {
    "execution": {
     "iopub.execute_input": "2024-07-12T02:45:11.624165Z",
     "iopub.status.busy": "2024-07-12T02:45:11.623544Z",
     "iopub.status.idle": "2024-07-12T02:45:11.634625Z",
     "shell.execute_reply": "2024-07-12T02:45:11.633446Z",
     "shell.execute_reply.started": "2024-07-12T02:45:11.624101Z"
    }
   },
   "outputs": [],
   "source": []
  }
 ],
 "metadata": {
  "kernelspec": {
   "display_name": "Python 3 (ipykernel)",
   "language": "python",
   "name": "python3"
  },
  "language_info": {
   "codemirror_mode": {
    "name": "ipython",
    "version": 3
   },
   "file_extension": ".py",
   "mimetype": "text/x-python",
   "name": "python",
   "nbconvert_exporter": "python",
   "pygments_lexer": "ipython3",
   "version": "3.11.7"
  }
 },
 "nbformat": 4,
 "nbformat_minor": 5
}
